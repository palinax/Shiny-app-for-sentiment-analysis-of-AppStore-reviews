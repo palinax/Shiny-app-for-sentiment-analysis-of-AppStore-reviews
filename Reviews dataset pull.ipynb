{
 "cells": [
  {
   "cell_type": "code",
   "execution_count": 20,
   "id": "4b7499eb-ee9e-49ba-b10a-edef87be3195",
   "metadata": {},
   "outputs": [
    {
     "name": "stderr",
     "output_type": "stream",
     "text": [
      "2023-04-20 19:54:23,858 [INFO] Base - Initialised: AppStore('us', 'snapchat', 447188370)\n",
      "2023-04-20 19:54:23,860 [INFO] Base - Ready to fetch reviews from: https://apps.apple.com/us/app/snapchat/id447188370\n",
      "2023-04-20 19:54:29,155 [INFO] Base - [id:447188370] Fetched 200 reviews (200 fetched in total)\n",
      "2023-04-20 19:54:34,602 [INFO] Base - [id:447188370] Fetched 420 reviews (420 fetched in total)\n",
      "2023-04-20 19:54:36,739 [INFO] Base - [id:447188370] Fetched 500 reviews (500 fetched in total)\n"
     ]
    }
   ],
   "source": [
    "from app_store_scraper import AppStore\n",
    "import pandas as pd\n",
    "import numpy as np\n",
    "import json\n",
    "\n",
    "# set country and app name\n",
    "country = 'us'\n",
    "app_name = 'snapchat'\n",
    "app_id = '447188370'\n",
    "\n",
    "# create AppStore object and get reviews\n",
    "data = AppStore(country=country, app_name=app_name, app_id=app_id)\n",
    "data.review(how_many=500)\n",
    "\n",
    "# create dataframe from reviews\n",
    "df = pd.DataFrame(np.array(data.reviews), columns=['review'])\n",
    "\n",
    "# add app name column to dataframe\n",
    "df['app_name'] = app_name\n",
    "\n",
    "# split review column into rating and text columns\n",
    "df = df.join(pd.DataFrame(df.pop('review').tolist(), columns=['date', 'title', 'rating', 'review', 'userName']))\n",
    "\n",
    "# print first few rows of dataframe\n",
    "df.head()\n",
    "\n",
    "df.to_csv('snapchat_reviews.csv', index=False)"
   ]
  },
  {
   "cell_type": "code",
   "execution_count": 23,
   "id": "349dc8a2-d16e-4e90-94e3-d70d6cf9aa12",
   "metadata": {},
   "outputs": [
    {
     "name": "stderr",
     "output_type": "stream",
     "text": [
      "2023-04-20 20:08:26,688 [INFO] Base - Initialised: AppStore('us', 'snapchat', 447188370)\n",
      "2023-04-20 20:08:26,691 [INFO] Base - Ready to fetch reviews from: https://apps.apple.com/us/app/snapchat/id447188370\n",
      "2023-04-20 20:08:29,191 [INFO] Base - [id:447188370] Fetched 500 reviews (500 fetched in total)\n"
     ]
    },
    {
     "name": "stdout",
     "output_type": "stream",
     "text": [
      "   app_name                date                                         title  \\\n",
      "0  Snapchat 2022-09-14 20:07:29                 Love it but have suggestions!   \n",
      "1  Snapchat 2022-11-27 00:02:05                                     Love it 💗   \n",
      "2  Snapchat 2023-02-25 21:31:02                               It’s a nice app   \n",
      "3  Snapchat 2022-11-23 22:36:49  Some glitches ang suggestions for the app :)   \n",
      "4  Snapchat 2023-03-07 00:18:18        Give a warning before locking accounts   \n",
      "\n",
      "   rating                                             review  \\\n",
      "0       5  I’ve used Snapchat as my main communication ap...   \n",
      "1       5  Kids can have Snapchat and they will enjoy you...   \n",
      "2       5  I like Snapchat and it’s just comfortable for ...   \n",
      "3       3  Have been using this app for years and love ho...   \n",
      "4       3  Hello, I’m a frequent Snapchat user and recent...   \n",
      "\n",
      "                  userName  \n",
      "0               BootleDoos  \n",
      "1   i guess this is briana  \n",
      "2         MePlayzRoblox🥳🥳🥳  \n",
      "3                Jujujesci  \n",
      "4  creepy kelpto detective  \n"
     ]
    },
    {
     "name": "stderr",
     "output_type": "stream",
     "text": [
      "2023-04-20 20:08:30,359 [INFO] Base - Initialised: AppStore('us', 'tinder', 547702041)\n",
      "2023-04-20 20:08:30,361 [INFO] Base - Ready to fetch reviews from: https://apps.apple.com/us/app/tinder/id547702041\n",
      "2023-04-20 20:08:35,520 [INFO] Base - [id:547702041] Fetched 240 reviews (240 fetched in total)\n",
      "2023-04-20 20:08:40,830 [INFO] Base - [id:547702041] Fetched 500 reviews (500 fetched in total)\n"
     ]
    },
    {
     "name": "stdout",
     "output_type": "stream",
     "text": [
      "  app_name                date                                       title  \\\n",
      "0   Tinder 2022-05-28 15:04:00   Tinder Gold Is No Longer Worth Your Money   \n",
      "1   Tinder 2022-03-04 19:37:56  They Can Shut You Down With No Explanation   \n",
      "2   Tinder 2022-09-01 04:33:02        Deserves shutting down, it’s a scam.   \n",
      "3   Tinder 2022-01-16 03:06:49                        Tinder went downhill   \n",
      "4   Tinder 2023-03-03 08:20:44        Women/Fems get permanently banned :)   \n",
      "\n",
      "   rating                                             review  \\\n",
      "0       2  I used to unironically like Tinder, even at it...   \n",
      "1       1  Within 48 hrs of having downloaded the app (mo...   \n",
      "2       1  What can I say? What should I say? It doesn’t ...   \n",
      "3       1  I don’t normally leave reviews but it’s really...   \n",
      "4       1  I've been on this app off and on since 2018 an...   \n",
      "\n",
      "             userName  \n",
      "0        WordiestTomb  \n",
      "1   Mr. McGuillacutty  \n",
      "2  Dako_the_Austinite  \n",
      "3        Hardshot4488  \n",
      "4    i dont want peta  \n"
     ]
    },
    {
     "name": "stderr",
     "output_type": "stream",
     "text": [
      "2023-04-20 20:08:42,225 [INFO] Base - Initialised: AppStore('us', 'spotify', 324684580)\n",
      "2023-04-20 20:08:42,226 [INFO] Base - Ready to fetch reviews from: https://apps.apple.com/us/app/spotify/id324684580\n",
      "2023-04-20 20:08:47,370 [INFO] Base - [id:324684580] Fetched 200 reviews (200 fetched in total)\n",
      "2023-04-20 20:08:53,213 [INFO] Base - [id:324684580] Fetched 420 reviews (420 fetched in total)\n",
      "2023-04-20 20:08:55,205 [INFO] Base - [id:324684580] Fetched 500 reviews (500 fetched in total)\n"
     ]
    },
    {
     "name": "stdout",
     "output_type": "stream",
     "text": [
      "  app_name                date  \\\n",
      "0  Spotify 2022-08-06 20:05:26   \n",
      "1  Spotify 2020-08-27 18:33:53   \n",
      "2  Spotify 2021-09-29 05:02:23   \n",
      "3  Spotify 2021-03-31 02:03:47   \n",
      "4  Spotify 2021-06-06 17:25:40   \n",
      "\n",
      "                                               title  rating  \\\n",
      "0                                           Best App       5   \n",
      "1                                    Beat app but...       5   \n",
      "2  bluetooth/wired connection to car, library format       4   \n",
      "3                                  It keeps stopping       3   \n",
      "4               Calm down with the long commercials.       4   \n",
      "\n",
      "                                              review           userName  \n",
      "0  This app is by far the best music service I’ve...              V.143  \n",
      "1  I personally love this app but the only part I...      intense ligma  \n",
      "2  I always connect to my scion ia via bluetooth,...         strwvrryle  \n",
      "3  A problem I frequently have is that when liste...    GoldenShadow127  \n",
      "4  I could be wrong, but isn’t it better to hit p...  TravelingCowboy74  \n"
     ]
    },
    {
     "name": "stderr",
     "output_type": "stream",
     "text": [
      "2023-04-20 20:08:56,040 [INFO] Base - Initialised: AppStore('us', 'binance', 1436799971)\n",
      "2023-04-20 20:08:56,042 [INFO] Base - Ready to fetch reviews from: https://apps.apple.com/us/app/binance/id1436799971\n",
      "2023-04-20 20:09:01,253 [INFO] Base - [id:1436799971] Fetched 300 reviews (300 fetched in total)\n",
      "2023-04-20 20:09:04,612 [INFO] Base - [id:1436799971] Fetched 500 reviews (500 fetched in total)\n"
     ]
    },
    {
     "name": "stdout",
     "output_type": "stream",
     "text": [
      "  app_name                date                                        title  \\\n",
      "0  Binance 2021-08-12 06:20:19    This is a App I wish I could give it Zero   \n",
      "1  Binance 2023-04-17 18:28:13                          Bad security policy   \n",
      "2  Binance 2021-04-11 18:25:51                       Don’t waste your time.   \n",
      "3  Binance 2021-05-05 17:13:25                    Horrible customer support   \n",
      "4  Binance 2021-06-17 03:22:32  Be careful, you could loose your investment   \n",
      "\n",
      "   rating                                             review  \\\n",
      "0       5  Being the largest crypto exchange platform whi...   \n",
      "1       1  How can you be protecting my assets from me. W...   \n",
      "2       2  The only thing good about the app is it’s inte...   \n",
      "3       1  I’ve been trying to buy crypto for a while now...   \n",
      "4       1  When markets move in a favorable direction man...   \n",
      "\n",
      "             userName  \n",
      "0             NANOBIN  \n",
      "1           rey_nolds  \n",
      "2  Username: Courtney  \n",
      "3        King Banks M  \n",
      "4           Tammmmmmz  \n"
     ]
    },
    {
     "name": "stderr",
     "output_type": "stream",
     "text": [
      "2023-04-20 20:09:05,347 [INFO] Base - Initialised: AppStore('us', 'notion', 1232780281)\n",
      "2023-04-20 20:09:05,349 [INFO] Base - Ready to fetch reviews from: https://apps.apple.com/us/app/notion/id1232780281\n",
      "2023-04-20 20:09:24,442 [ERROR] Base - Something went wrong: HTTPSConnectionPool(host='amp-api.apps.apple.com', port=443): Max retries exceeded with url: /v1/catalog/us/apps/1232780281/reviews?l=en-GB&offset=0&limit=20&platform=web&additionalPlatforms=appletv%2Cipad%2Ciphone%2Cmac (Caused by ResponseError('too many 429 error responses'))\n",
      "2023-04-20 20:09:24,449 [INFO] Base - [id:1232780281] Fetched 0 reviews (0 fetched in total)\n"
     ]
    },
    {
     "name": "stdout",
     "output_type": "stream",
     "text": [
      "Empty DataFrame\n",
      "Columns: [app_name, date, title, rating, review, userName]\n",
      "Index: []\n"
     ]
    }
   ],
   "source": [
    "from app_store_scraper import AppStore\n",
    "import pandas as pd\n",
    "import numpy as np\n",
    "\n",
    "# set country\n",
    "country = 'us'\n",
    "\n",
    "# list of app names and ids\n",
    "app_list = [\n",
    "    {'name': 'Snapchat', 'id': '447188370'},\n",
    "    {'name': 'Tinder', 'id': '547702041'},\n",
    "    {'name': 'Spotify', 'id': '324684580'},\n",
    "    {'name': 'Binance', 'id': '1436799971'},\n",
    "    {'name': 'Notion', 'id': '1232780281'}\n",
    "    # add more apps here\n",
    "]\n",
    "\n",
    "# iterate through app list\n",
    "for app in app_list:\n",
    "    app_name = app['name']\n",
    "    app_id = app['id']\n",
    "\n",
    "    # create AppStore object and get reviews\n",
    "    data = AppStore(country=country, app_name=app_name, app_id=app_id)\n",
    "    data.review(how_many=500)\n",
    "\n",
    "    # create dataframe from reviews\n",
    "    df = pd.DataFrame(np.array(data.reviews), columns=['review'])\n",
    "\n",
    "    # add app name column to dataframe\n",
    "    df['app_name'] = app_name\n",
    "\n",
    "    # split review column into rating and text columns\n",
    "    df = df.join(pd.DataFrame(df.pop('review').tolist(), columns=['date', 'title', 'rating', 'review', 'userName']))\n",
    "\n",
    "    # print first few rows of dataframe\n",
    "    print(df.head())\n",
    "\n",
    "    # save dataframe to csv\n",
    "    df.to_csv(f'{app_name}_reviews.csv', index=False)\n"
   ]
  },
  {
   "cell_type": "code",
   "execution_count": null,
   "id": "ced8cf58-6011-48d1-afbf-d15c05b1b38a",
   "metadata": {},
   "outputs": [],
   "source": []
  }
 ],
 "metadata": {
  "kernelspec": {
   "display_name": "Python 3 (ipykernel)",
   "language": "python",
   "name": "python3"
  },
  "language_info": {
   "codemirror_mode": {
    "name": "ipython",
    "version": 3
   },
   "file_extension": ".py",
   "mimetype": "text/x-python",
   "name": "python",
   "nbconvert_exporter": "python",
   "pygments_lexer": "ipython3",
   "version": "3.9.13"
  }
 },
 "nbformat": 4,
 "nbformat_minor": 5
}
